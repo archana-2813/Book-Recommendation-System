{
 "cells": [
  {
   "cell_type": "code",
   "execution_count": 1,
   "id": "a3d296ef-917e-4ca1-acbb-d6758c187aa4",
   "metadata": {},
   "outputs": [
    {
     "name": "stdout",
     "output_type": "stream",
     "text": [
      "LIBSVM file has been created.\n"
     ]
    }
   ],
   "source": [
    "import pandas as pd\n",
    "from collections import defaultdict\n",
    "\n",
    "# Loading the dataset\n",
    "ratings_df = pd.read_csv('Ratings.csv', sep=';', names=['User-ID', 'ISBN', 'Rating'], skiprows=1)\n",
    "\n",
    "# Mapping each unique User-ID and ISBN starting from 1\n",
    "user_to_index = {user: i + 1 for i, user in enumerate(ratings_df['User-ID'].unique())}\n",
    "isbn_to_index = {isbn: i + 1 for i, isbn in enumerate(ratings_df['ISBN'].unique())}\n",
    "\n",
    "# Dictionary to store each user's ratings, {isbn_index: rating}\n",
    "user_ratings = defaultdict(dict)\n",
    "\n",
    "# Populate the user_ratings dictionary with sequential user and ISBN indices\n",
    "for _, row in ratings_df.iterrows():\n",
    "    user_idx = user_to_index[row['User-ID']]  \n",
    "    isbn_idx = isbn_to_index[row['ISBN']]     \n",
    "    user_ratings[user_idx][isbn_idx] = row['Rating']  \n",
    "\n",
    "# Write the LIBSVM formatted output to a file, without user ID\n",
    "with open('user_booklibsvmnew.libsvm', 'w') as f:\n",
    "    for user_idx in sorted(user_ratings):\n",
    "        ratings = [f'{isbn_idx}:{rating}' for isbn_idx, rating in sorted(user_ratings[user_idx].items())]\n",
    "        line = ' '.join(ratings) + '\\n'  \n",
    "        f.write(line)\n",
    "\n",
    "print(\"LIBSVM file has been created.\")\n"
   ]
  },
  {
   "cell_type": "code",
   "execution_count": null,
   "id": "f23c95ad-21a9-403d-8cb6-578ab76035bd",
   "metadata": {},
   "outputs": [],
   "source": []
  }
 ],
 "metadata": {
  "kernelspec": {
   "display_name": "Python 3 (ipykernel)",
   "language": "python",
   "name": "python3"
  },
  "language_info": {
   "codemirror_mode": {
    "name": "ipython",
    "version": 3
   },
   "file_extension": ".py",
   "mimetype": "text/x-python",
   "name": "python",
   "nbconvert_exporter": "python",
   "pygments_lexer": "ipython3",
   "version": "3.12.4"
  }
 },
 "nbformat": 4,
 "nbformat_minor": 5
}
